{
 "cells": [
  {
   "cell_type": "code",
   "execution_count": null,
   "metadata": {},
   "outputs": [],
   "source": [
    "import pandas as pd\n",
    "import numpy as np\n",
    "from sklearn.model_selection import StratifiedKFold\n",
    "from sklearn.naive_bayes import GaussianNB\n",
    "from sklearn.model_selection import train_test_split\n",
    "from sklearn.preprocessing import StandardScaler"
   ]
  },
  {
   "cell_type": "code",
   "execution_count": null,
   "metadata": {},
   "outputs": [],
   "source": [
    "df=pd.read_csv(\"./Negative Point.csv\")\n",
    "# df=pd.read_csv(\"./Data_with_negative_points.csv\")\n",
    "\n",
    "df=df.dropna()\n",
    "df=df.drop(columns=['year','BICYCLE_IND','PEDESTRIAN_IND'])\n",
    "X=df.iloc[:,:-1]\n",
    "Y=df.iloc[:,-1:]\n",
    "Y=np.ravel(Y)\n",
    "\n",
    "X_train,X_test,Y_train,Y_test = train_test_split(X,Y,test_size=0.4, random_state=42,shuffle=True)\n",
    "\n",
    "feature_scaler=StandardScaler()\n",
    "X_train=feature_scaler.fit_transform(X_train)\n",
    "X_test=feature_scaler.transform(X_test)"
   ]
  },
  {
   "cell_type": "code",
   "execution_count": null,
   "metadata": {},
   "outputs": [],
   "source": [
    "kfold = StratifiedKFold(n_splits=10, random_state=412, shuffle=True)\n",
    "\n",
    "gnb=GaussianNB()\n",
    "gnb.fit(X_train,Y_train)\n",
    "# modelCV = GridSearchCV( GaussianNB(), param_grid, n_jobs=-1, cv=kfold)\n",
    "# modelCV = GridSearchCV( SVC(gamma='auto'), param_grid, n_jobs=-1, cv=kfold)\n",
    "# modelCV = GridSearchCV( LogisticRegression(class_weight='balanced'), param_grid, n_jobs=-1, cv=kfold)"
   ]
  },
  {
   "cell_type": "code",
   "execution_count": null,
   "metadata": {},
   "outputs": [],
   "source": [
    "Y_pred=gnb.predict(X_test)"
   ]
  },
  {
   "cell_type": "code",
   "execution_count": null,
   "metadata": {},
   "outputs": [],
   "source": [
    "from sklearn.metrics import log_loss, accuracy_score\n",
    "# log_loss(Y_test,Y_pred)\n",
    "accuracy_score(Y_test,Y_pred)"
   ]
  },
  {
   "cell_type": "code",
   "execution_count": null,
   "metadata": {},
   "outputs": [],
   "source": [
    "Y_pred=gnb.predict_proba(X_test)"
   ]
  },
  {
   "cell_type": "code",
   "execution_count": null,
   "metadata": {},
   "outputs": [],
   "source": [
    "Y_pred"
   ]
  }
 ],
 "metadata": {
  "kernelspec": {
   "display_name": "Python 3",
   "language": "python",
   "name": "python3"
  },
  "language_info": {
   "codemirror_mode": {
    "name": "ipython",
    "version": 3
   },
   "file_extension": ".py",
   "mimetype": "text/x-python",
   "name": "python",
   "nbconvert_exporter": "python",
   "pygments_lexer": "ipython3",
   "version": "3.8.2"
  }
 },
 "nbformat": 4,
 "nbformat_minor": 2
}
